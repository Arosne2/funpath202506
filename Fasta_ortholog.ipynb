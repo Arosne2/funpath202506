{
 "cells": [
  {
   "cell_type": "code",
   "execution_count": 93,
   "id": "78401bed-9e64-4ba2-9be6-7a770427c59b",
   "metadata": {},
   "outputs": [],
   "source": [
    "from Bio import SeqIO\n",
    "import pandas as pd\n",
    "import re\n",
    "import seaborn as sns\n",
    "import matplotlib.pyplot as plt\n",
    "import os"
   ]
  },
  {
   "cell_type": "code",
   "execution_count": 94,
   "id": "530ad804-2e59-46a5-a5dd-ce8b05181c56",
   "metadata": {},
   "outputs": [
    {
     "name": "stdout",
     "output_type": "stream",
     "text": [
      "/Users/Andi\n"
     ]
    }
   ],
   "source": [
    "#Set working directory so that everything can be called uniformly\n",
    "os.chdir('/Users/Andi')\n",
    "print(os.getcwd())"
   ]
  },
  {
   "cell_type": "markdown",
   "id": "8d9506da-bedc-4741-a98c-0a7e88838656",
   "metadata": {},
   "source": [
    "Tab-separated file mapping protein groups to Orthomcl groups where the columns are labeled 'ID' for the OrthoMCl groups and 'ProteinID' for the uniprot entry. \n",
    " "
   ]
  },
  {
   "cell_type": "code",
   "execution_count": null,
   "id": "111388c0-d0ea-43a0-aabf-5fa71ae59b69",
   "metadata": {},
   "outputs": [],
   "source": []
  },
  {
   "cell_type": "code",
   "execution_count": 95,
   "id": "0802a1d0-6716-4713-aa22-e29fcbc034f1",
   "metadata": {},
   "outputs": [],
   "source": [
    "\n",
    "orth_chae =  pd.read_csv('Desktop/funpath/DB/orth_uniprot/chae_og7orth_uniprot.tsv', sep='\\t')\n",
    "orth_cauris = pd.read_csv('Desktop/funpath/DB/orth_uniprot/cauris_og7orth_uniprot.tsv', sep='\\t')\n",
    "orth_calbicans =  pd.read_csv('Desktop/funpath/DB/orth_uniprot/calbicans_og7orth_uniprot.tsv', sep='\\t')"
   ]
  },
  {
   "cell_type": "code",
   "execution_count": 96,
   "id": "9caa0379-d0dc-4e5d-ba4f-df2fbf5e7bd4",
   "metadata": {},
   "outputs": [
    {
     "data": {
      "text/plain": [
       "Index(['Group ID', 'Entry'], dtype='object')"
      ]
     },
     "execution_count": 96,
     "metadata": {},
     "output_type": "execute_result"
    }
   ],
   "source": [
    "orth_calbicans.columns "
   ]
  },
  {
   "cell_type": "code",
   "execution_count": 97,
   "id": "db2a49b2-c8fd-4334-934c-f67d1bb733dd",
   "metadata": {},
   "outputs": [],
   "source": [
    "orth_chae.rename(columns={'Entry':'ProteinID', 'Group ID':'ID'}, inplace=True)\n",
    "orth_cauris.rename(columns={'Entry':'ProteinID', 'Group ID':'ID'}, inplace=True)\n",
    "orth_calbicans.rename(columns={'Uniprot ID':'ProteinID', 'Group ID':'ID'}, inplace=True)"
   ]
  },
  {
   "cell_type": "code",
   "execution_count": 98,
   "id": "88317bcb-a78c-4c87-b8eb-f82624580ead",
   "metadata": {},
   "outputs": [],
   "source": [
    "# Replace all NaN values with 0\n",
    "orth_chae.fillna(0, inplace=True)\n",
    "orth_cauris.fillna(0, inplace=True)\n",
    "orth_calbicans.fillna(0, inplace=True)"
   ]
  },
  {
   "cell_type": "code",
   "execution_count": 99,
   "id": "19192b04-24b4-4605-b9f5-13e0742f1a16",
   "metadata": {},
   "outputs": [],
   "source": [
    "\n",
    "# Define the path to your FASTA file\n",
    "fasta_file_chae = \"Desktop/funpath/DB/fasta_uniprot/chaemulonii_fasta_2025_05_09.fasta\"\n",
    "fasta_file_cauris = \"Desktop/funpath/DB/fasta_uniprot/cauris_fasta_2025_05_09.fasta\"\n",
    "fasta_file_calbicans = \"Desktop/funpath/DB/fasta_uniprot/calbicans_fasta_2025_05_09.fasta\"\n"
   ]
  },
  {
   "cell_type": "code",
   "execution_count": 100,
   "id": "a80b05c1-9fbb-496c-9cc8-7441c6aa9b12",
   "metadata": {},
   "outputs": [],
   "source": [
    "\n",
    "# Create lists to store the sequence IDs and sequences\n",
    "chae_ids = []\n",
    "chae_sequences = []\n",
    "cauris_ids = []\n",
    "cauris_sequences = []\n",
    "calbicans_ids = []\n",
    "calbicans_sequences = []"
   ]
  },
  {
   "cell_type": "code",
   "execution_count": 101,
   "id": "3898c195-7ceb-4e76-bfcb-312fe0400a47",
   "metadata": {},
   "outputs": [],
   "source": [
    "for record in SeqIO.parse(fasta_file_chae, \"fasta\"):\n",
    "    chae_ids.append(record.id)\n",
    "    chae_sequences.append(str(record.seq))"
   ]
  },
  {
   "cell_type": "code",
   "execution_count": 102,
   "id": "f721e6e5-38bc-4440-881a-c3c4b6535268",
   "metadata": {},
   "outputs": [],
   "source": [
    "for record in SeqIO.parse(fasta_file_cauris, \"fasta\"):\n",
    "    cauris_ids.append(record.id)\n",
    "    cauris_sequences.append(str(record.seq))"
   ]
  },
  {
   "cell_type": "code",
   "execution_count": 103,
   "id": "f03dc604-0dfe-43cb-b1a3-87a22e46f281",
   "metadata": {},
   "outputs": [],
   "source": [
    "for record in SeqIO.parse(fasta_file_calbicans, \"fasta\"):\n",
    "    calbicans_ids.append(record.id)\n",
    "    calbicans_sequences.append(str(record.seq))"
   ]
  },
  {
   "cell_type": "code",
   "execution_count": 104,
   "id": "f94e3537-1e70-4ac5-b719-faff3994fcc4",
   "metadata": {},
   "outputs": [],
   "source": [
    "# Create a DataFrame from the lists\n",
    "chae_fastadf = pd.DataFrame({\"ID\": chae_ids, \"Sequence\": chae_sequences})\n",
    "cauris_fastadf = pd.DataFrame({\"ID\": cauris_ids, \"Sequence\": cauris_sequences})\n",
    "calbicans_fastadf = pd.DataFrame({\"ID\": calbicans_ids, \"Sequence\": calbicans_sequences})\n"
   ]
  },
  {
   "cell_type": "code",
   "execution_count": 105,
   "id": "514e30c6-a943-43ab-82ec-9fc854e3e091",
   "metadata": {
    "tags": []
   },
   "outputs": [],
   "source": [
    "# Function to extract the desired part\n",
    "def extract_protein_id(entry):\n",
    "    return entry.split('|')[1]\n",
    "\n"
   ]
  },
  {
   "cell_type": "code",
   "execution_count": 106,
   "id": "1464d9f5-777e-4599-8e48-2fd0e0d258f9",
   "metadata": {
    "tags": []
   },
   "outputs": [],
   "source": [
    "# Create a new column with the extracted ProteinID\n",
    "chae_fastadf['ProteinID'] = chae_fastadf['ID'].apply(extract_protein_id)\n",
    "cauris_fastadf['ProteinID'] = cauris_fastadf['ID'].apply(extract_protein_id)\n",
    "calbicans_fastadf['ProteinID'] = calbicans_fastadf['ID'].apply(extract_protein_id)"
   ]
  },
  {
   "cell_type": "code",
   "execution_count": 110,
   "id": "241d1be4-36d9-44a9-a927-c4a535c19457",
   "metadata": {},
   "outputs": [],
   "source": [
    "# Define the output FASTA file path\n",
    "haeoutput_fasta_file = \"Desktop/funpath/DB/fasta_uniprot/chaeumulonii_uniprotfasta_justID_20250509.fasta\"\n",
    "\n",
    "# Function to write the DataFrame back into a FASTA format\n",
    "with open(haeoutput_fasta_file, \"w\") as fasta_file:\n",
    "    for index, row in chae_fastadf.iterrows():\n",
    "        fasta_file.write(f\">{row['ProteinID']}\\n\")\n",
    "        fasta_file.write(f\"{row['Sequence']}\\n\")\n"
   ]
  },
  {
   "cell_type": "code",
   "execution_count": 111,
   "id": "f6a9770c-1ee9-4c16-885f-b64b9c084417",
   "metadata": {},
   "outputs": [],
   "source": [
    "# Define the output FASTA file path\n",
    "aurisoutput_fasta_file = \"Desktop/funpath/DB/fasta_uniprot/cauris_uniprotfasta_justID_20250509.fasta\"\n",
    "\n",
    "# Function to write the DataFrame back into a FASTA format\n",
    "with open(aurisoutput_fasta_file, \"w\") as fasta_file:\n",
    "    for index, row in cauris_fastadf.iterrows():\n",
    "        fasta_file.write(f\">{row['ProteinID']}\\n\")\n",
    "        fasta_file.write(f\"{row['Sequence']}\\n\")\n"
   ]
  },
  {
   "cell_type": "code",
   "execution_count": 112,
   "id": "b5a49ccb-275c-4bb1-8355-73790b020970",
   "metadata": {},
   "outputs": [],
   "source": [
    "# Define the output FASTA file path\n",
    "albicansoutput_fasta_file = \"Desktop/funpath/DB/fasta_uniprot/calbicans_uniprotfasta_justID_20250509.fasta\"\n",
    "\n",
    "# Function to write the DataFrame back into a FASTA format\n",
    "with open(albicansoutput_fasta_file, \"w\") as fasta_file:\n",
    "    for index, row in calbicans_fastadf.iterrows():\n",
    "        fasta_file.write(f\">{row['ProteinID']}\\n\")\n",
    "        fasta_file.write(f\"{row['Sequence']}\\n\")\n"
   ]
  },
  {
   "cell_type": "code",
   "execution_count": 113,
   "id": "c6dc6463-b0e1-4d31-a41c-89df934d336d",
   "metadata": {},
   "outputs": [],
   "source": [
    "chae_fastadf.drop(columns=['ID' ], inplace=True)\n",
    "cauris_fastadf.drop(columns=['ID' ], inplace=True)\n",
    "calbicans_fastadf.drop(columns=['ID' ], inplace=True)"
   ]
  },
  {
   "cell_type": "code",
   "execution_count": 114,
   "id": "9aae9918-7681-4711-b66c-316231b588c9",
   "metadata": {
    "tags": []
   },
   "outputs": [],
   "source": [
    "orth_chae.to_csv('Desktop/funpath/DB/fasta_orth/chae_orth_fastaconcat.tsv', sep='\\t', index=False)\n",
    "orth_cauris.to_csv('Desktop/funpath/DB/fasta_orth/cauris_orth_fastaconcat.tsv', sep='\\t', index=False)\n",
    "orth_calbicans.to_csv('Desktop/funpath/DB/fasta_orth/calbicans_orth_fastaconcat.tsv', sep='\\t', index=False)"
   ]
  },
  {
   "cell_type": "code",
   "execution_count": null,
   "id": "66702eec-6c66-4001-acf8-785b30f4408f",
   "metadata": {},
   "outputs": [],
   "source": []
  },
  {
   "cell_type": "code",
   "execution_count": 69,
   "id": "f5504f2b-9d16-4800-8acf-f02d54589735",
   "metadata": {},
   "outputs": [],
   "source": [
    "testdf = chae_fastadf.head(5)"
   ]
  },
  {
   "cell_type": "code",
   "execution_count": 74,
   "id": "d3337283-d85a-4277-9d5c-89025190f63e",
   "metadata": {},
   "outputs": [],
   "source": [
    "# Define the output FASTA file path\n",
    "output_fasta_file = \"Desktop/funpath/DB/test_fasta.fasta\"\n",
    "\n",
    "# Function to write the DataFrame back into a FASTA format\n",
    "with open(output_fasta_file, \"w\") as fasta_file:\n",
    "    for index, row in testdf.iterrows():\n",
    "        fasta_file.write(f\">{row['ProteinID']}\\n\")\n",
    "        fasta_file.write(f\"{row['Sequence']}\\n\")\n"
   ]
  },
  {
   "cell_type": "code",
   "execution_count": 116,
   "id": "c077ef71-615c-4be4-b35b-e2564efe5bb4",
   "metadata": {},
   "outputs": [],
   "source": [
    "# Define the data\n",
    "data = {\n",
    "    \"ProteinID\": [\"A0A2V1AUX0\", \"A0A2V1AQQ6\", \"A0A2V1ALF0\", \"A0A2V1AMQ3\", \"A0A2V1AND4\"],\n",
    "    \"ID\": [\"OG6_500299\", \"OG6_500299\", \"OG6_500299\", \"OG6_500299\", \"OG6_500299\"]\n",
    "}\n",
    "\n",
    "# Create the DataFrame\n",
    "testref_df = pd.DataFrame(data)"
   ]
  },
  {
   "cell_type": "code",
   "execution_count": 117,
   "id": "b50ccd15-7d27-43ad-99bd-64def59f835a",
   "metadata": {},
   "outputs": [],
   "source": [
    "testref_df.to_csv('Desktop/funpath/DB/testref_df.tsv', sep='\\t', index=False)"
   ]
  },
  {
   "cell_type": "code",
   "execution_count": null,
   "id": "9b203eef-204e-40ef-9c5a-c11463966e45",
   "metadata": {},
   "outputs": [],
   "source": [
    "#This uses concat_ortho_proteins.py to concatonate fastas based upon OGs assigned by orthomcl\n",
    "\n",
    "python concat_ortho_proteins.py -m DB/testref_df.tsv -f DB/test_fasta.fasta -o DB/test_concatorthfasta.fasta\n",
    "\n",
    "python concat_ortho_proteins.py -m DB/fasta_orth/chae_orth_fastaconcat.tsv -f DB/fasta_uniprot/chae_uniprotfasta_justID_20250509.fasta -o DB/fasta_orth/chae_fasta_orth_concat.fasta\n",
    "\n",
    "python concat_ortho_proteins.py -m DB/fasta_orth/cauris_orth_fastaconcat.tsv -f DB/fasta_uniprot/cauris_uniprotfasta_justID_20250509.fasta -o DB/fasta_orth/cauris_fasta_orth_concat.fasta\n",
    "\n",
    "python concat_ortho_proteins.py -m DB/fasta_orth/calbicans_orth_fastaconcat.tsv -f DB/fasta_uniprot/calbicans_uniprotfasta_justID_20250509.fasta -o DB/fasta_orth/calbicans_fasta_orth_concat.fasta\n"
   ]
  },
  {
   "cell_type": "code",
   "execution_count": null,
   "id": "54edfdd7-b40e-43a9-a4f6-34bdf075b9d9",
   "metadata": {},
   "outputs": [],
   "source": []
  }
 ],
 "metadata": {
  "kernelspec": {
   "display_name": "Python 3 (ipykernel)",
   "language": "python",
   "name": "python3"
  },
  "language_info": {
   "codemirror_mode": {
    "name": "ipython",
    "version": 3
   },
   "file_extension": ".py",
   "mimetype": "text/x-python",
   "name": "python",
   "nbconvert_exporter": "python",
   "pygments_lexer": "ipython3",
   "version": "3.10.9"
  }
 },
 "nbformat": 4,
 "nbformat_minor": 5
}
