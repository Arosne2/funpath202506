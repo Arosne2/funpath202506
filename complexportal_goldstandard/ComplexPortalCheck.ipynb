{
 "cells": [
  {
   "cell_type": "code",
   "execution_count": 1,
   "id": "da34564e-b223-4a0b-ac66-8cb732d6439e",
   "metadata": {},
   "outputs": [],
   "source": [
    "\n",
    "import pandas as pd\n",
    "import re\n",
    "import seaborn as sns\n",
    "import matplotlib.pyplot as plt\n",
    "import os"
   ]
  },
  {
   "cell_type": "code",
   "execution_count": 2,
   "id": "4c28b20a-9e94-4670-a9bb-5741216a07a6",
   "metadata": {},
   "outputs": [
    {
     "name": "stdout",
     "output_type": "stream",
     "text": [
      "/Users/Andi\n"
     ]
    }
   ],
   "source": [
    "#Set working directory so that everything can be called uniformly\n",
    "os.chdir('/Users/Andi')\n",
    "print(os.getcwd())"
   ]
  },
  {
   "cell_type": "code",
   "execution_count": 3,
   "id": "704857f3-3b23-4258-9ddd-a892f412c7db",
   "metadata": {},
   "outputs": [],
   "source": [
    "annot = pd.read_csv('Desktop/funpath/DB/annotations/calbicans_orth_annotations_202050513.tsv', sep='\\t')\n",
    "compotab = pd.read_csv('Desktop/funpath/complexportal_goldstandard/complexportal_scere_tab.tsv', sep='\\t')\n",
    "orthscere =  pd.read_csv('Desktop/funpath/DB/orth_uniprot/scere_og6orth_uniprot.tsv', sep='\\t')\n"
   ]
  },
  {
   "cell_type": "code",
   "execution_count": 38,
   "id": "f13e3ecf-877b-4043-8856-c9b87290e6f4",
   "metadata": {},
   "outputs": [],
   "source": [
    "# Load the orthomcl v uniprot df\n",
    "calbicans_orth =  pd.read_csv('Desktop/funpath/DB/orth_uniprot/calbicans_og6orth_uniprot.tsv', sep='\\t')\n",
    "chae_orth =  pd.read_csv('Desktop/funpath/DB/orth_uniprot/chae_og6orth_uniprot.tsv', sep='\\t')\n",
    "cauris_orth= pd.read_csv('Desktop/funpath/DB/orth_uniprot/cauris_og6orth_uniprot.tsv', sep='\\t')"
   ]
  },
  {
   "cell_type": "code",
   "execution_count": 39,
   "id": "064e3d9b-4eaf-4db0-a4cd-631733c1b650",
   "metadata": {
    "tags": []
   },
   "outputs": [
    {
     "data": {
      "text/html": [
       "<div>\n",
       "<style scoped>\n",
       "    .dataframe tbody tr th:only-of-type {\n",
       "        vertical-align: middle;\n",
       "    }\n",
       "\n",
       "    .dataframe tbody tr th {\n",
       "        vertical-align: top;\n",
       "    }\n",
       "\n",
       "    .dataframe thead th {\n",
       "        text-align: right;\n",
       "    }\n",
       "</style>\n",
       "<table border=\"1\" class=\"dataframe\">\n",
       "  <thead>\n",
       "    <tr style=\"text-align: right;\">\n",
       "      <th></th>\n",
       "      <th>Accession</th>\n",
       "      <th>Entry</th>\n",
       "    </tr>\n",
       "  </thead>\n",
       "  <tbody>\n",
       "    <tr>\n",
       "      <th>0</th>\n",
       "      <td>OG6r21_119614</td>\n",
       "      <td>Q5AB58</td>\n",
       "    </tr>\n",
       "    <tr>\n",
       "      <th>1</th>\n",
       "      <td>OG6r21_119615</td>\n",
       "      <td>Q5AB59</td>\n",
       "    </tr>\n",
       "    <tr>\n",
       "      <th>2</th>\n",
       "      <td>OG6_115022</td>\n",
       "      <td>A0A1D8PC38</td>\n",
       "    </tr>\n",
       "    <tr>\n",
       "      <th>3</th>\n",
       "      <td>OG6_108387</td>\n",
       "      <td>P0CY34</td>\n",
       "    </tr>\n",
       "    <tr>\n",
       "      <th>4</th>\n",
       "      <td>OG6_102327</td>\n",
       "      <td>A0A1D8PC43</td>\n",
       "    </tr>\n",
       "  </tbody>\n",
       "</table>\n",
       "</div>"
      ],
      "text/plain": [
       "       Accession       Entry\n",
       "0  OG6r21_119614      Q5AB58\n",
       "1  OG6r21_119615      Q5AB59\n",
       "2     OG6_115022  A0A1D8PC38\n",
       "3     OG6_108387      P0CY34\n",
       "4     OG6_102327  A0A1D8PC43"
      ]
     },
     "execution_count": 39,
     "metadata": {},
     "output_type": "execute_result"
    }
   ],
   "source": [
    "calbicans_orth.head()"
   ]
  },
  {
   "cell_type": "code",
   "execution_count": 5,
   "id": "5da1e330-e9ff-4e24-adce-6a1c4871bf28",
   "metadata": {},
   "outputs": [
    {
     "data": {
      "text/plain": [
       "Index(['Accession', 'Entry'], dtype='object')"
      ]
     },
     "execution_count": 5,
     "metadata": {},
     "output_type": "execute_result"
    }
   ],
   "source": [
    "orthscere.columns"
   ]
  },
  {
   "cell_type": "code",
   "execution_count": 6,
   "id": "9cbc3bf9-750e-4bd6-9055-a789d7d339ca",
   "metadata": {},
   "outputs": [],
   "source": [
    "#orthscere.rename(columns={'Orthomcl ID': 'OrthomclID'}, inplace=True)"
   ]
  },
  {
   "cell_type": "code",
   "execution_count": 7,
   "id": "7a83e0f5-617d-4967-8ac8-7fc2b3270402",
   "metadata": {},
   "outputs": [],
   "source": [
    "compotab.rename(columns={'Identifiers (and stoichiometry) of molecules in complex': 'Participants'}, inplace=True)"
   ]
  },
  {
   "cell_type": "code",
   "execution_count": 8,
   "id": "818e7005-50a8-4714-b118-be822a36a8f6",
   "metadata": {
    "tags": []
   },
   "outputs": [],
   "source": [
    "compotab.drop(columns=['#Complex ac', 'Aliases for complex',\n",
    "       'Taxonomy identifier',\n",
    "       'Evidence Code', 'Experimental evidence', 'Go Annotations',\n",
    "       'Cross references', 'Description', 'Complex properties',\n",
    "       'Complex assembly', 'Ligand', 'Disease', 'Agonist', 'Antagonist',\n",
    "       'Comment', 'Source', 'Expanded participant list'], inplace=True)"
   ]
  },
  {
   "cell_type": "code",
   "execution_count": 9,
   "id": "57c7e586-9092-4a37-aa65-63d72352d98e",
   "metadata": {},
   "outputs": [],
   "source": [
    "# Function to remove text within parentheses\n",
    "def remove_parentheses(text):\n",
    "    return re.sub(r'\\(.*?\\)', '', text)"
   ]
  },
  {
   "cell_type": "code",
   "execution_count": 10,
   "id": "62b605c4-665d-4880-b729-eccd99afd548",
   "metadata": {},
   "outputs": [],
   "source": [
    "compotab['Participants'] = compotab['Participants'].apply(remove_parentheses)"
   ]
  },
  {
   "cell_type": "code",
   "execution_count": 11,
   "id": "cb76d81c-4de0-45b9-852f-90c1d630a34c",
   "metadata": {},
   "outputs": [
    {
     "name": "stderr",
     "output_type": "stream",
     "text": [
      "/var/folders/rw/tfs5pfbx2zg_q39nh65tbfrw0000gp/T/ipykernel_97905/1493998034.py:1: FutureWarning: The default value of regex will change from True to False in a future version. In addition, single character regular expressions will *not* be treated as literal strings when regex=True.\n",
      "  compotab['Participants'] = compotab['Participants'].str.replace('|', ' ')\n"
     ]
    }
   ],
   "source": [
    "compotab['Participants'] = compotab['Participants'].str.replace('|', ' ')"
   ]
  },
  {
   "cell_type": "code",
   "execution_count": 16,
   "id": "3980b56b-db68-4eb9-9fa8-0c2338563adc",
   "metadata": {},
   "outputs": [
    {
     "data": {
      "text/html": [
       "<div>\n",
       "<style scoped>\n",
       "    .dataframe tbody tr th:only-of-type {\n",
       "        vertical-align: middle;\n",
       "    }\n",
       "\n",
       "    .dataframe tbody tr th {\n",
       "        vertical-align: top;\n",
       "    }\n",
       "\n",
       "    .dataframe thead th {\n",
       "        text-align: right;\n",
       "    }\n",
       "</style>\n",
       "<table border=\"1\" class=\"dataframe\">\n",
       "  <thead>\n",
       "    <tr style=\"text-align: right;\">\n",
       "      <th></th>\n",
       "      <th>Recommended name</th>\n",
       "      <th>Participants</th>\n",
       "    </tr>\n",
       "  </thead>\n",
       "  <tbody>\n",
       "    <tr>\n",
       "      <th>0</th>\n",
       "      <td>CST_complex</td>\n",
       "      <td>P32797 P38960 Q07921</td>\n",
       "    </tr>\n",
       "    <tr>\n",
       "      <th>1</th>\n",
       "      <td>Replication_protein_A_complex</td>\n",
       "      <td>P22336 P26754 P26755</td>\n",
       "    </tr>\n",
       "    <tr>\n",
       "      <th>2</th>\n",
       "      <td>U1_small_nuclear_ribonucleoprotein_complex</td>\n",
       "      <td>P32605 P33203 P39682 P40018 P40204 P43321 P532...</td>\n",
       "    </tr>\n",
       "    <tr>\n",
       "      <th>3</th>\n",
       "      <td>U6_small_nuclear_ribonucleoprotein_complex</td>\n",
       "      <td>P38203 P40070 P40089 P47093 P49960 P53905 P577...</td>\n",
       "    </tr>\n",
       "    <tr>\n",
       "      <th>4</th>\n",
       "      <td>U4/U6.U5_tri-small_nuclear_ribonucleoprotein_c...</td>\n",
       "      <td>P19735 P20053 P23394 P32639 P33334 P36048 P382...</td>\n",
       "    </tr>\n",
       "  </tbody>\n",
       "</table>\n",
       "</div>"
      ],
      "text/plain": [
       "                                    Recommended name  \\\n",
       "0                                        CST_complex   \n",
       "1                      Replication_protein_A_complex   \n",
       "2         U1_small_nuclear_ribonucleoprotein_complex   \n",
       "3         U6_small_nuclear_ribonucleoprotein_complex   \n",
       "4  U4/U6.U5_tri-small_nuclear_ribonucleoprotein_c...   \n",
       "\n",
       "                                        Participants  \n",
       "0                               P32797 P38960 Q07921  \n",
       "1                               P22336 P26754 P26755  \n",
       "2  P32605 P33203 P39682 P40018 P40204 P43321 P532...  \n",
       "3  P38203 P40070 P40089 P47093 P49960 P53905 P577...  \n",
       "4  P19735 P20053 P23394 P32639 P33334 P36048 P382...  "
      ]
     },
     "execution_count": 16,
     "metadata": {},
     "output_type": "execute_result"
    }
   ],
   "source": [
    "compotab.head()"
   ]
  },
  {
   "cell_type": "code",
   "execution_count": 17,
   "id": "a308d84b-d3bd-42c2-93be-5b0be3099b7b",
   "metadata": {},
   "outputs": [],
   "source": [
    "compotab['Recommended name'] = compotab['Recommended name'].str.replace(' ', '_')"
   ]
  },
  {
   "cell_type": "code",
   "execution_count": 22,
   "id": "85554289-a938-4b60-8a34-0bfe45e2a849",
   "metadata": {},
   "outputs": [],
   "source": [
    "compotab.to_csv('Desktop/funpath/complexportal_goldstandard/scere_filename_participants.tsv', sep='\\t', index=False)"
   ]
  },
  {
   "cell_type": "code",
   "execution_count": 31,
   "id": "c1610efa-fd0d-476f-bb44-9719875f1f18",
   "metadata": {},
   "outputs": [],
   "source": [
    "# Create a dictionary from the reference DataFrame for quick lookup\n",
    "replacement_dict = pd.Series(orthscere.Accession.values, index=orthscere.Entry).to_dict()\n"
   ]
  },
  {
   "cell_type": "code",
   "execution_count": 32,
   "id": "aefc0530-ca8f-4507-b14d-a0a3d5127ac6",
   "metadata": {
    "tags": []
   },
   "outputs": [],
   "source": [
    "\n",
    "\n",
    "# Function to replace substrings in the main DataFrame\n",
    "def replace_substrings(text):\n",
    "    # Split the string into individual substrings\n",
    "    substrings = text.split(' ')\n",
    "    # Replace each substring using the dictionary\n",
    "    replaced_substrings = [replacement_dict.get(sub, sub) for sub in substrings]\n",
    "    # Join the substrings back together\n",
    "    return ' '.join(replaced_substrings)\n",
    "\n"
   ]
  },
  {
   "cell_type": "code",
   "execution_count": 51,
   "id": "2e21a43b-a3d4-4f8d-b526-37ec2b39f708",
   "metadata": {},
   "outputs": [],
   "source": [
    "# Function to replace substrings in the main DataFrame\n",
    "def replace_caur_substrings(text):\n",
    "    # Split the string into individual substrings\n",
    "    substrings = text.split(' ')\n",
    "    # Replace each substring using the dictionary\n",
    "    replaced_substrings = [replacement_cauris_dict.get(sub, sub) for sub in substrings]\n",
    "    # Join the substrings back together\n",
    "    return ' '.join(replaced_substrings)\n",
    "\n"
   ]
  },
  {
   "cell_type": "code",
   "execution_count": 52,
   "id": "d885bd81-2437-438b-ad4d-d20d92812b65",
   "metadata": {},
   "outputs": [],
   "source": [
    "# Function to replace substrings in the main DataFrame\n",
    "def replace_chae_substrings(text):\n",
    "    # Split the string into individual substrings\n",
    "    substrings = text.split(' ')\n",
    "    # Replace each substring using the dictionary\n",
    "    replaced_substrings = [replacement_chae_dict.get(sub, sub) for sub in substrings]\n",
    "    # Join the substrings back together\n",
    "    return ' '.join(replaced_substrings)\n",
    "\n"
   ]
  },
  {
   "cell_type": "code",
   "execution_count": 53,
   "id": "039b4531-b004-4b1e-b019-484a49ddc186",
   "metadata": {},
   "outputs": [],
   "source": [
    "# Function to replace substrings in the main DataFrame\n",
    "def replace_calb_substrings(text):\n",
    "    # Split the string into individual substrings\n",
    "    substrings = text.split(' ')\n",
    "    # Replace each substring using the dictionary\n",
    "    replaced_substrings = [replacement_calb_dict.get(sub, sub) for sub in substrings]\n",
    "    # Join the substrings back together\n",
    "    return ' '.join(replaced_substrings)\n",
    "\n"
   ]
  },
  {
   "cell_type": "code",
   "execution_count": null,
   "id": "8b666c10-e25e-4768-9fa7-6c733864b9c3",
   "metadata": {},
   "outputs": [],
   "source": []
  },
  {
   "cell_type": "code",
   "execution_count": 50,
   "id": "b1eedaf2-7371-4e1e-84cd-e1fd669b5111",
   "metadata": {},
   "outputs": [],
   "source": [
    "compotab_orth=compotab\n",
    "compotab_caur=compotab\n",
    "compotab_chae=compotab\n",
    "compotab_calb=compotab"
   ]
  },
  {
   "cell_type": "code",
   "execution_count": 43,
   "id": "d7f6893c-5950-46f9-868a-e2cd7ea5a5c1",
   "metadata": {},
   "outputs": [],
   "source": [
    "# Apply the replacement function to the column\n",
    "compotab_orth['Participants'] = compotab['Participants'].apply(replace_substrings)\n"
   ]
  },
  {
   "cell_type": "code",
   "execution_count": 48,
   "id": "6a77b776-945e-4c01-8cc4-dd33a878905c",
   "metadata": {
    "tags": []
   },
   "outputs": [
    {
     "data": {
      "text/html": [
       "<div>\n",
       "<style scoped>\n",
       "    .dataframe tbody tr th:only-of-type {\n",
       "        vertical-align: middle;\n",
       "    }\n",
       "\n",
       "    .dataframe tbody tr th {\n",
       "        vertical-align: top;\n",
       "    }\n",
       "\n",
       "    .dataframe thead th {\n",
       "        text-align: right;\n",
       "    }\n",
       "</style>\n",
       "<table border=\"1\" class=\"dataframe\">\n",
       "  <thead>\n",
       "    <tr style=\"text-align: right;\">\n",
       "      <th></th>\n",
       "      <th>Recommended name</th>\n",
       "      <th>Participants</th>\n",
       "    </tr>\n",
       "  </thead>\n",
       "  <tbody>\n",
       "    <tr>\n",
       "      <th>0</th>\n",
       "      <td>CST_complex</td>\n",
       "      <td>OG6_500431 OG6_500059 OG6_500635</td>\n",
       "    </tr>\n",
       "    <tr>\n",
       "      <th>1</th>\n",
       "      <td>Replication_protein_A_complex</td>\n",
       "      <td>OG6_101316 OG6_102423 OG6_500395</td>\n",
       "    </tr>\n",
       "    <tr>\n",
       "      <th>2</th>\n",
       "      <td>U1_small_nuclear_ribonucleoprotein_complex</td>\n",
       "      <td>OG6_100753 OG6_101966 OG6_104156 OG6_101868 OG...</td>\n",
       "    </tr>\n",
       "    <tr>\n",
       "      <th>3</th>\n",
       "      <td>U6_small_nuclear_ribonucleoprotein_complex</td>\n",
       "      <td>OG6_103409 OG6_102392 OG6_103447 OG6_102771 OG...</td>\n",
       "    </tr>\n",
       "    <tr>\n",
       "      <th>4</th>\n",
       "      <td>U4/U6.U5_tri-small_nuclear_ribonucleoprotein_c...</td>\n",
       "      <td>OG6_102682 OG6_102752 OG6_102378 OG6_100305 OG...</td>\n",
       "    </tr>\n",
       "  </tbody>\n",
       "</table>\n",
       "</div>"
      ],
      "text/plain": [
       "                                    Recommended name  \\\n",
       "0                                        CST_complex   \n",
       "1                      Replication_protein_A_complex   \n",
       "2         U1_small_nuclear_ribonucleoprotein_complex   \n",
       "3         U6_small_nuclear_ribonucleoprotein_complex   \n",
       "4  U4/U6.U5_tri-small_nuclear_ribonucleoprotein_c...   \n",
       "\n",
       "                                        Participants  \n",
       "0                   OG6_500431 OG6_500059 OG6_500635  \n",
       "1                   OG6_101316 OG6_102423 OG6_500395  \n",
       "2  OG6_100753 OG6_101966 OG6_104156 OG6_101868 OG...  \n",
       "3  OG6_103409 OG6_102392 OG6_103447 OG6_102771 OG...  \n",
       "4  OG6_102682 OG6_102752 OG6_102378 OG6_100305 OG...  "
      ]
     },
     "execution_count": 48,
     "metadata": {},
     "output_type": "execute_result"
    }
   ],
   "source": [
    "compotab.head()"
   ]
  },
  {
   "cell_type": "code",
   "execution_count": 22,
   "id": "f06c2b7b-f0b3-4ae2-864e-787f8be63c54",
   "metadata": {
    "tags": []
   },
   "outputs": [],
   "source": [
    "compotab.to_csv('Desktop/funpath/complexportal_goldstandard/scere_complexes_ortho.tsv', sep='\\t', index=False)"
   ]
  },
  {
   "cell_type": "code",
   "execution_count": null,
   "id": "ef287e7e-342b-4868-9832-f17d24b58993",
   "metadata": {},
   "outputs": [],
   "source": []
  },
  {
   "cell_type": "code",
   "execution_count": 23,
   "id": "70a99432-7ee8-448b-96b6-132f64d15771",
   "metadata": {},
   "outputs": [],
   "source": [
    "testtrain = pd.read_csv('Desktop/funpath/complexportal_goldstandard/scere_complexes_ortho.tsv', sep='\\t')"
   ]
  },
  {
   "cell_type": "code",
   "execution_count": 24,
   "id": "4f718c28-468e-442d-89f4-49571e283d45",
   "metadata": {},
   "outputs": [
    {
     "data": {
      "text/html": [
       "<div>\n",
       "<style scoped>\n",
       "    .dataframe tbody tr th:only-of-type {\n",
       "        vertical-align: middle;\n",
       "    }\n",
       "\n",
       "    .dataframe tbody tr th {\n",
       "        vertical-align: top;\n",
       "    }\n",
       "\n",
       "    .dataframe thead th {\n",
       "        text-align: right;\n",
       "    }\n",
       "</style>\n",
       "<table border=\"1\" class=\"dataframe\">\n",
       "  <thead>\n",
       "    <tr style=\"text-align: right;\">\n",
       "      <th></th>\n",
       "      <th>Recommended name</th>\n",
       "      <th>Participants</th>\n",
       "    </tr>\n",
       "  </thead>\n",
       "  <tbody>\n",
       "    <tr>\n",
       "      <th>0</th>\n",
       "      <td>CST_complex</td>\n",
       "      <td>OG6_500431 OG6_500059 OG6_500635</td>\n",
       "    </tr>\n",
       "    <tr>\n",
       "      <th>1</th>\n",
       "      <td>Replication_protein_A_complex</td>\n",
       "      <td>OG6_101316 OG6_102423 OG6_500395</td>\n",
       "    </tr>\n",
       "    <tr>\n",
       "      <th>2</th>\n",
       "      <td>U1_small_nuclear_ribonucleoprotein_complex</td>\n",
       "      <td>OG6_100753 OG6_101966 OG6_104156 OG6_101868 OG...</td>\n",
       "    </tr>\n",
       "    <tr>\n",
       "      <th>3</th>\n",
       "      <td>U6_small_nuclear_ribonucleoprotein_complex</td>\n",
       "      <td>OG6_103409 OG6_102392 OG6_103447 OG6_102771 OG...</td>\n",
       "    </tr>\n",
       "    <tr>\n",
       "      <th>4</th>\n",
       "      <td>U4/U6.U5_tri-small_nuclear_ribonucleoprotein_c...</td>\n",
       "      <td>OG6_102682 OG6_102752 OG6_102378 OG6_100305 OG...</td>\n",
       "    </tr>\n",
       "    <tr>\n",
       "      <th>...</th>\n",
       "      <td>...</td>\n",
       "      <td>...</td>\n",
       "    </tr>\n",
       "    <tr>\n",
       "      <th>623</th>\n",
       "      <td>Mitochondrial_proton-transporting_ATP_synthase...</td>\n",
       "      <td>OG6_100608 OG6_102362 OG6_137875 OG6_111834 OG...</td>\n",
       "    </tr>\n",
       "    <tr>\n",
       "      <th>624</th>\n",
       "      <td>Nucleolar_ribonuclease_MRP_complex</td>\n",
       "      <td>OG6_103583 OG6_131696 OG6_152915 OG6_101654 OG...</td>\n",
       "    </tr>\n",
       "    <tr>\n",
       "      <th>625</th>\n",
       "      <td>PAN2-PAN3_mRNA_deadenylation_complex</td>\n",
       "      <td>OG6_103887 OG6_102772</td>\n",
       "    </tr>\n",
       "    <tr>\n",
       "      <th>626</th>\n",
       "      <td>FUN30_complex</td>\n",
       "      <td>OG6_103309</td>\n",
       "    </tr>\n",
       "    <tr>\n",
       "      <th>627</th>\n",
       "      <td>Telomerase_holoenzyme_complex</td>\n",
       "      <td>OG6_222561 OG6_500131 OG6_104485 URS0000348061...</td>\n",
       "    </tr>\n",
       "  </tbody>\n",
       "</table>\n",
       "<p>628 rows × 2 columns</p>\n",
       "</div>"
      ],
      "text/plain": [
       "                                      Recommended name  \\\n",
       "0                                          CST_complex   \n",
       "1                        Replication_protein_A_complex   \n",
       "2           U1_small_nuclear_ribonucleoprotein_complex   \n",
       "3           U6_small_nuclear_ribonucleoprotein_complex   \n",
       "4    U4/U6.U5_tri-small_nuclear_ribonucleoprotein_c...   \n",
       "..                                                 ...   \n",
       "623  Mitochondrial_proton-transporting_ATP_synthase...   \n",
       "624                 Nucleolar_ribonuclease_MRP_complex   \n",
       "625               PAN2-PAN3_mRNA_deadenylation_complex   \n",
       "626                                      FUN30_complex   \n",
       "627                      Telomerase_holoenzyme_complex   \n",
       "\n",
       "                                          Participants  \n",
       "0                     OG6_500431 OG6_500059 OG6_500635  \n",
       "1                     OG6_101316 OG6_102423 OG6_500395  \n",
       "2    OG6_100753 OG6_101966 OG6_104156 OG6_101868 OG...  \n",
       "3    OG6_103409 OG6_102392 OG6_103447 OG6_102771 OG...  \n",
       "4    OG6_102682 OG6_102752 OG6_102378 OG6_100305 OG...  \n",
       "..                                                 ...  \n",
       "623  OG6_100608 OG6_102362 OG6_137875 OG6_111834 OG...  \n",
       "624  OG6_103583 OG6_131696 OG6_152915 OG6_101654 OG...  \n",
       "625                              OG6_103887 OG6_102772  \n",
       "626                                         OG6_103309  \n",
       "627  OG6_222561 OG6_500131 OG6_104485 URS0000348061...  \n",
       "\n",
       "[628 rows x 2 columns]"
      ]
     },
     "execution_count": 24,
     "metadata": {},
     "output_type": "execute_result"
    }
   ],
   "source": [
    "testtrain"
   ]
  },
  {
   "cell_type": "code",
   "execution_count": 25,
   "id": "a455ca94-1aa5-4c07-9ea1-07419bd69832",
   "metadata": {
    "tags": []
   },
   "outputs": [],
   "source": [
    "# Function to filter 'OG6' substrings\n",
    "def filter_og6(content):\n",
    "    return ' '.join(re.findall(r'OG6_\\d+', content))"
   ]
  },
  {
   "cell_type": "code",
   "execution_count": 26,
   "id": "b7dce4bc-1fc4-4b0c-b6bc-0def7527c0ee",
   "metadata": {},
   "outputs": [],
   "source": [
    "testtrain['Participants'] = testtrain['Participants'].apply(filter_og6)"
   ]
  },
  {
   "cell_type": "code",
   "execution_count": 27,
   "id": "d2569c10-0bd6-4335-8c01-95c7a911aa16",
   "metadata": {},
   "outputs": [
    {
     "data": {
      "text/plain": [
       "Index(['Recommended name', 'Participants'], dtype='object')"
      ]
     },
     "execution_count": 27,
     "metadata": {},
     "output_type": "execute_result"
    }
   ],
   "source": [
    "testtrain.columns"
   ]
  },
  {
   "cell_type": "code",
   "execution_count": 28,
   "id": "c03218b4-39a7-496a-b277-33f615721dc8",
   "metadata": {
    "tags": []
   },
   "outputs": [],
   "source": [
    "testtrain.drop(columns=['Recommended name'], inplace=True)"
   ]
  },
  {
   "cell_type": "code",
   "execution_count": 29,
   "id": "a1529409-56cf-4b5b-8490-51d0006e903c",
   "metadata": {
    "tags": []
   },
   "outputs": [
    {
     "data": {
      "text/html": [
       "<div>\n",
       "<style scoped>\n",
       "    .dataframe tbody tr th:only-of-type {\n",
       "        vertical-align: middle;\n",
       "    }\n",
       "\n",
       "    .dataframe tbody tr th {\n",
       "        vertical-align: top;\n",
       "    }\n",
       "\n",
       "    .dataframe thead th {\n",
       "        text-align: right;\n",
       "    }\n",
       "</style>\n",
       "<table border=\"1\" class=\"dataframe\">\n",
       "  <thead>\n",
       "    <tr style=\"text-align: right;\">\n",
       "      <th></th>\n",
       "      <th>Participants</th>\n",
       "    </tr>\n",
       "  </thead>\n",
       "  <tbody>\n",
       "    <tr>\n",
       "      <th>0</th>\n",
       "      <td>OG6_500431 OG6_500059 OG6_500635</td>\n",
       "    </tr>\n",
       "    <tr>\n",
       "      <th>1</th>\n",
       "      <td>OG6_101316 OG6_102423 OG6_500395</td>\n",
       "    </tr>\n",
       "    <tr>\n",
       "      <th>2</th>\n",
       "      <td>OG6_100753 OG6_101966 OG6_104156 OG6_101868 OG...</td>\n",
       "    </tr>\n",
       "    <tr>\n",
       "      <th>3</th>\n",
       "      <td>OG6_103409 OG6_102392 OG6_103447 OG6_102771 OG...</td>\n",
       "    </tr>\n",
       "    <tr>\n",
       "      <th>4</th>\n",
       "      <td>OG6_102682 OG6_102752 OG6_102378 OG6_100305 OG...</td>\n",
       "    </tr>\n",
       "    <tr>\n",
       "      <th>...</th>\n",
       "      <td>...</td>\n",
       "    </tr>\n",
       "    <tr>\n",
       "      <th>623</th>\n",
       "      <td>OG6_100608 OG6_102362 OG6_137875 OG6_111834 OG...</td>\n",
       "    </tr>\n",
       "    <tr>\n",
       "      <th>624</th>\n",
       "      <td>OG6_103583 OG6_131696 OG6_152915 OG6_101654 OG...</td>\n",
       "    </tr>\n",
       "    <tr>\n",
       "      <th>625</th>\n",
       "      <td>OG6_103887 OG6_102772</td>\n",
       "    </tr>\n",
       "    <tr>\n",
       "      <th>626</th>\n",
       "      <td>OG6_103309</td>\n",
       "    </tr>\n",
       "    <tr>\n",
       "      <th>627</th>\n",
       "      <td>OG6_222561 OG6_500131 OG6_104485</td>\n",
       "    </tr>\n",
       "  </tbody>\n",
       "</table>\n",
       "<p>628 rows × 1 columns</p>\n",
       "</div>"
      ],
      "text/plain": [
       "                                          Participants\n",
       "0                     OG6_500431 OG6_500059 OG6_500635\n",
       "1                     OG6_101316 OG6_102423 OG6_500395\n",
       "2    OG6_100753 OG6_101966 OG6_104156 OG6_101868 OG...\n",
       "3    OG6_103409 OG6_102392 OG6_103447 OG6_102771 OG...\n",
       "4    OG6_102682 OG6_102752 OG6_102378 OG6_100305 OG...\n",
       "..                                                 ...\n",
       "623  OG6_100608 OG6_102362 OG6_137875 OG6_111834 OG...\n",
       "624  OG6_103583 OG6_131696 OG6_152915 OG6_101654 OG...\n",
       "625                              OG6_103887 OG6_102772\n",
       "626                                         OG6_103309\n",
       "627                   OG6_222561 OG6_500131 OG6_104485\n",
       "\n",
       "[628 rows x 1 columns]"
      ]
     },
     "execution_count": 29,
     "metadata": {},
     "output_type": "execute_result"
    }
   ],
   "source": [
    "testtrain"
   ]
  },
  {
   "cell_type": "code",
   "execution_count": 39,
   "id": "1696a750-7721-4645-acf4-6cb682583f8c",
   "metadata": {},
   "outputs": [],
   "source": [
    "testtrain.to_csv('Desktop/funpath/complexportal_goldstandard/filtered_onlyOG6_scere_complexes.tsv', sep='\\t',index= False)"
   ]
  },
  {
   "cell_type": "code",
   "execution_count": 30,
   "id": "33c84ba7-459f-4f83-98e4-5112fac355c0",
   "metadata": {},
   "outputs": [],
   "source": [
    "#read in filename with ortho participants\n",
    "name_partic=pd.read_csv('Desktop/funpath/ComplexPortalGoldStandard/scere_filename_participants.tsv', sep='\\t')"
   ]
  },
  {
   "cell_type": "code",
   "execution_count": 36,
   "id": "196764f4-b6d1-44d8-9848-9befd32ecc77",
   "metadata": {},
   "outputs": [],
   "source": [
    "# Apply the replacement function to the column\n",
    "name_partic['Participants'] = name_partic['Participants'].apply(replace_substrings)"
   ]
  },
  {
   "cell_type": "code",
   "execution_count": 37,
   "id": "9241f75c-7d39-47a8-a3a6-8d0d57b5ee0c",
   "metadata": {},
   "outputs": [
    {
     "data": {
      "text/html": [
       "<div>\n",
       "<style scoped>\n",
       "    .dataframe tbody tr th:only-of-type {\n",
       "        vertical-align: middle;\n",
       "    }\n",
       "\n",
       "    .dataframe tbody tr th {\n",
       "        vertical-align: top;\n",
       "    }\n",
       "\n",
       "    .dataframe thead th {\n",
       "        text-align: right;\n",
       "    }\n",
       "</style>\n",
       "<table border=\"1\" class=\"dataframe\">\n",
       "  <thead>\n",
       "    <tr style=\"text-align: right;\">\n",
       "      <th></th>\n",
       "      <th>Recommended name</th>\n",
       "      <th>Participants</th>\n",
       "    </tr>\n",
       "  </thead>\n",
       "  <tbody>\n",
       "    <tr>\n",
       "      <th>0</th>\n",
       "      <td>CST_complex</td>\n",
       "      <td>OG6_500431 OG6_500059 OG6_500635</td>\n",
       "    </tr>\n",
       "    <tr>\n",
       "      <th>1</th>\n",
       "      <td>Replication_protein_A_complex</td>\n",
       "      <td>OG6_101316 OG6_102423 OG6_500395</td>\n",
       "    </tr>\n",
       "    <tr>\n",
       "      <th>2</th>\n",
       "      <td>U1_small_nuclear_ribonucleoprotein_complex</td>\n",
       "      <td>OG6_100753 OG6_101966 OG6_104156 OG6_101868 OG...</td>\n",
       "    </tr>\n",
       "    <tr>\n",
       "      <th>3</th>\n",
       "      <td>U6_small_nuclear_ribonucleoprotein_complex</td>\n",
       "      <td>OG6_103409 OG6_102392 OG6_103447 OG6_102771 OG...</td>\n",
       "    </tr>\n",
       "    <tr>\n",
       "      <th>4</th>\n",
       "      <td>U4/U6.U5_tri-small_nuclear_ribonucleoprotein_c...</td>\n",
       "      <td>OG6_102682 OG6_102752 OG6_102378 OG6_100305 OG...</td>\n",
       "    </tr>\n",
       "    <tr>\n",
       "      <th>...</th>\n",
       "      <td>...</td>\n",
       "      <td>...</td>\n",
       "    </tr>\n",
       "    <tr>\n",
       "      <th>623</th>\n",
       "      <td>Mitochondrial_proton-transporting_ATP_synthase...</td>\n",
       "      <td>OG6_100608 OG6_102362 OG6_137875 OG6_111834 OG...</td>\n",
       "    </tr>\n",
       "    <tr>\n",
       "      <th>624</th>\n",
       "      <td>Nucleolar_ribonuclease_MRP_complex</td>\n",
       "      <td>OG6_103583 OG6_131696 OG6_152915 OG6_101654 OG...</td>\n",
       "    </tr>\n",
       "    <tr>\n",
       "      <th>625</th>\n",
       "      <td>PAN2-PAN3_mRNA_deadenylation_complex</td>\n",
       "      <td>OG6_103887 OG6_102772</td>\n",
       "    </tr>\n",
       "    <tr>\n",
       "      <th>626</th>\n",
       "      <td>FUN30_complex</td>\n",
       "      <td>OG6_103309</td>\n",
       "    </tr>\n",
       "    <tr>\n",
       "      <th>627</th>\n",
       "      <td>Telomerase_holoenzyme_complex</td>\n",
       "      <td>OG6_222561 OG6_500131 OG6_104485 URS0000348061...</td>\n",
       "    </tr>\n",
       "  </tbody>\n",
       "</table>\n",
       "<p>628 rows × 2 columns</p>\n",
       "</div>"
      ],
      "text/plain": [
       "                                      Recommended name  \\\n",
       "0                                          CST_complex   \n",
       "1                        Replication_protein_A_complex   \n",
       "2           U1_small_nuclear_ribonucleoprotein_complex   \n",
       "3           U6_small_nuclear_ribonucleoprotein_complex   \n",
       "4    U4/U6.U5_tri-small_nuclear_ribonucleoprotein_c...   \n",
       "..                                                 ...   \n",
       "623  Mitochondrial_proton-transporting_ATP_synthase...   \n",
       "624                 Nucleolar_ribonuclease_MRP_complex   \n",
       "625               PAN2-PAN3_mRNA_deadenylation_complex   \n",
       "626                                      FUN30_complex   \n",
       "627                      Telomerase_holoenzyme_complex   \n",
       "\n",
       "                                          Participants  \n",
       "0                     OG6_500431 OG6_500059 OG6_500635  \n",
       "1                     OG6_101316 OG6_102423 OG6_500395  \n",
       "2    OG6_100753 OG6_101966 OG6_104156 OG6_101868 OG...  \n",
       "3    OG6_103409 OG6_102392 OG6_103447 OG6_102771 OG...  \n",
       "4    OG6_102682 OG6_102752 OG6_102378 OG6_100305 OG...  \n",
       "..                                                 ...  \n",
       "623  OG6_100608 OG6_102362 OG6_137875 OG6_111834 OG...  \n",
       "624  OG6_103583 OG6_131696 OG6_152915 OG6_101654 OG...  \n",
       "625                              OG6_103887 OG6_102772  \n",
       "626                                         OG6_103309  \n",
       "627  OG6_222561 OG6_500131 OG6_104485 URS0000348061...  \n",
       "\n",
       "[628 rows x 2 columns]"
      ]
     },
     "execution_count": 37,
     "metadata": {},
     "output_type": "execute_result"
    }
   ],
   "source": [
    "name_partic"
   ]
  },
  {
   "cell_type": "code",
   "execution_count": 40,
   "id": "8b732874-ac11-42d7-887f-e6511d0c50a0",
   "metadata": {},
   "outputs": [],
   "source": [
    "# Create a dictionary from the reference DataFrame for quick lookup\n",
    "replacement_chae_dict = pd.Series(chae_orth.Entry.values, index=chae_orth.Accession).to_dict()\n",
    "replacement_cauris_dict = pd.Series(cauris_orth.Entry.values, index=cauris_orth.Accession).to_dict()\n",
    "replacement_calb_dict = pd.Series(calbicans_orth.Entry.values, index=calbicans_orth.Accession).to_dict()"
   ]
  },
  {
   "cell_type": "code",
   "execution_count": 54,
   "id": "a665870a-cdaf-462e-a537-be84eae6e5a9",
   "metadata": {},
   "outputs": [],
   "source": [
    "# Apply the replacement function to the column\n",
    "compotab_caur['Participants'] = compotab_caur['Participants'].apply(replace_caur_substrings)\n",
    "\n",
    "compotab_chae['Participants'] = compotab_chae['Participants'].apply(replace_chae_substrings)\n",
    "\n",
    "compotab_calb['Participants'] = compotab_calb['Participants'].apply(replace_calb_substrings)\n"
   ]
  },
  {
   "cell_type": "code",
   "execution_count": 57,
   "id": "7260d6f5-1de1-43aa-8082-330545b5b0ab",
   "metadata": {},
   "outputs": [
    {
     "data": {
      "text/html": [
       "<div>\n",
       "<style scoped>\n",
       "    .dataframe tbody tr th:only-of-type {\n",
       "        vertical-align: middle;\n",
       "    }\n",
       "\n",
       "    .dataframe tbody tr th {\n",
       "        vertical-align: top;\n",
       "    }\n",
       "\n",
       "    .dataframe thead th {\n",
       "        text-align: right;\n",
       "    }\n",
       "</style>\n",
       "<table border=\"1\" class=\"dataframe\">\n",
       "  <thead>\n",
       "    <tr style=\"text-align: right;\">\n",
       "      <th></th>\n",
       "      <th>Recommended name</th>\n",
       "      <th>Participants</th>\n",
       "    </tr>\n",
       "  </thead>\n",
       "  <tbody>\n",
       "    <tr>\n",
       "      <th>0</th>\n",
       "      <td>CST_complex</td>\n",
       "      <td>OG6_500431 OG6_500059 OG6_500635</td>\n",
       "    </tr>\n",
       "    <tr>\n",
       "      <th>1</th>\n",
       "      <td>Replication_protein_A_complex</td>\n",
       "      <td>A0A2H0ZYY1 A0A2H0ZKN9 OG6_500395</td>\n",
       "    </tr>\n",
       "    <tr>\n",
       "      <th>2</th>\n",
       "      <td>U1_small_nuclear_ribonucleoprotein_complex</td>\n",
       "      <td>A0A2H0ZGL6 A0A2H0ZT36 A0A2H1A854 A0A2H0ZXV0 A0...</td>\n",
       "    </tr>\n",
       "    <tr>\n",
       "      <th>3</th>\n",
       "      <td>U6_small_nuclear_ribonucleoprotein_complex</td>\n",
       "      <td>A0A2H0ZGH7 A0A2H1A513 A0A2H0ZDR9 A0A2H0ZR87 A0...</td>\n",
       "    </tr>\n",
       "    <tr>\n",
       "      <th>4</th>\n",
       "      <td>U4/U6.U5_tri-small_nuclear_ribonucleoprotein_c...</td>\n",
       "      <td>A0A2H0ZVT3 A0A2H0ZY37 A0A2H0ZV20 A0A2H0ZIN1 A0...</td>\n",
       "    </tr>\n",
       "  </tbody>\n",
       "</table>\n",
       "</div>"
      ],
      "text/plain": [
       "                                    Recommended name  \\\n",
       "0                                        CST_complex   \n",
       "1                      Replication_protein_A_complex   \n",
       "2         U1_small_nuclear_ribonucleoprotein_complex   \n",
       "3         U6_small_nuclear_ribonucleoprotein_complex   \n",
       "4  U4/U6.U5_tri-small_nuclear_ribonucleoprotein_c...   \n",
       "\n",
       "                                        Participants  \n",
       "0                   OG6_500431 OG6_500059 OG6_500635  \n",
       "1                   A0A2H0ZYY1 A0A2H0ZKN9 OG6_500395  \n",
       "2  A0A2H0ZGL6 A0A2H0ZT36 A0A2H1A854 A0A2H0ZXV0 A0...  \n",
       "3  A0A2H0ZGH7 A0A2H1A513 A0A2H0ZDR9 A0A2H0ZR87 A0...  \n",
       "4  A0A2H0ZVT3 A0A2H0ZY37 A0A2H0ZV20 A0A2H0ZIN1 A0...  "
      ]
     },
     "execution_count": 57,
     "metadata": {},
     "output_type": "execute_result"
    }
   ],
   "source": [
    "compotab_calb.head()"
   ]
  },
  {
   "cell_type": "code",
   "execution_count": 60,
   "id": "b3815706-1859-409c-ba04-46bd115344f4",
   "metadata": {},
   "outputs": [],
   "source": [
    "compotab_caur.to_csv('Desktop/funpath/ComplexPortalGoldStandard/filename_participants/caur_filename_participants.tsv', sep='\\t', index=False)\n",
    "compotab_chae.to_csv('Desktop/funpath/ComplexPortalGoldStandard/filename_participants/chae_filename_participants.tsv', sep='\\t', index=False)\n",
    "compotab_calb.to_csv('Desktop/funpath/ComplexPortalGoldStandard/filename_participants/calb_filename_participants.tsv', sep='\\t', index=False)\n",
    "name_partic.to_csv('Desktop/funpath/ComplexPortalGoldStandard/filename_participants/orth_filename_participants.tsv', sep='\\t', index=False)"
   ]
  },
  {
   "cell_type": "code",
   "execution_count": null,
   "id": "ca9adaeb-6cdb-48ae-ba14-f083a9fdafa7",
   "metadata": {},
   "outputs": [],
   "source": []
  }
 ],
 "metadata": {
  "kernelspec": {
   "display_name": "Python 3 (ipykernel)",
   "language": "python",
   "name": "python3"
  },
  "language_info": {
   "codemirror_mode": {
    "name": "ipython",
    "version": 3
   },
   "file_extension": ".py",
   "mimetype": "text/x-python",
   "name": "python",
   "nbconvert_exporter": "python",
   "pygments_lexer": "ipython3",
   "version": "3.10.9"
  }
 },
 "nbformat": 4,
 "nbformat_minor": 5
}
